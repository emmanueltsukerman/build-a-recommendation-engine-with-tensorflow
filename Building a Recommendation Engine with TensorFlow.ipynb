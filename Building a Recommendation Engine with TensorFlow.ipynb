{
 "cells": [
  {
   "cell_type": "code",
   "execution_count": 1,
   "metadata": {},
   "outputs": [
    {
     "data": {
      "application/javascript": [
       "\n",
       "            setTimeout(function() {\n",
       "                var nbb_cell_id = 1;\n",
       "                var nbb_formatted_code = \"%load_ext nb_black\";\n",
       "                var nbb_cells = Jupyter.notebook.get_cells();\n",
       "                for (var i = 0; i < nbb_cells.length; ++i) {\n",
       "                    if (nbb_cells[i].input_prompt_number == nbb_cell_id) {\n",
       "                        nbb_cells[i].set_text(nbb_formatted_code);\n",
       "                        break;\n",
       "                    }\n",
       "                }\n",
       "            }, 500);\n",
       "            "
      ],
      "text/plain": [
       "<IPython.core.display.Javascript object>"
      ]
     },
     "metadata": {},
     "output_type": "display_data"
    }
   ],
   "source": [
    "%load_ext nb_black"
   ]
  },
  {
   "cell_type": "code",
   "execution_count": 2,
   "metadata": {},
   "outputs": [
    {
     "data": {
      "application/javascript": [
       "\n",
       "            setTimeout(function() {\n",
       "                var nbb_cell_id = 2;\n",
       "                var nbb_formatted_code = \"import numpy as np\\n\\nratings = np.array(\\n    [\\n        [3.0, 3.0, 2.0, 3.0, 3.0, 3.0],\\n        [4.0, 1.0, 1.0, 4.0, 5.0, 3.0],\\n        [1.0, 2.0, 2.0, 1.0, 1.0, 2.0],\\n        [3.0, 2.0, 1.0, 3.0, 4.0, 3.0],\\n        [1.0, 5.0, 3.0, 1.0, 1.0, 3.0],\\n        [2.0, 5.0, 3.0, 2.0, 3.0, 4.0],\\n        [2.0, 2.0, 1.0, 2.0, 2.0, 2.0],\\n        [1.0, 4.0, 3.0, 1.0, 2.0, 3.0],\\n    ]\\n)\";\n",
       "                var nbb_cells = Jupyter.notebook.get_cells();\n",
       "                for (var i = 0; i < nbb_cells.length; ++i) {\n",
       "                    if (nbb_cells[i].input_prompt_number == nbb_cell_id) {\n",
       "                        nbb_cells[i].set_text(nbb_formatted_code);\n",
       "                        break;\n",
       "                    }\n",
       "                }\n",
       "            }, 500);\n",
       "            "
      ],
      "text/plain": [
       "<IPython.core.display.Javascript object>"
      ]
     },
     "metadata": {},
     "output_type": "display_data"
    }
   ],
   "source": [
    "import numpy as np\n",
    "\n",
    "ratings = np.array(\n",
    "    [\n",
    "        [3.0, 3.0, 2.0, 3.0, 3.0, 3.0],\n",
    "        [4.0, 1.0, 1.0, 4.0, 5.0, 3.0],\n",
    "        [1.0, 2.0, 2.0, 1.0, 1.0, 2.0],\n",
    "        [3.0, 2.0, 1.0, 3.0, 4.0, 3.0],\n",
    "        [1.0, 5.0, 3.0, 1.0, 1.0, 3.0],\n",
    "        [2.0, 5.0, 3.0, 2.0, 3.0, 4.0],\n",
    "        [2.0, 2.0, 1.0, 2.0, 2.0, 2.0],\n",
    "        [1.0, 4.0, 3.0, 1.0, 2.0, 3.0],\n",
    "    ]\n",
    ")"
   ]
  },
  {
   "cell_type": "code",
   "execution_count": 3,
   "metadata": {},
   "outputs": [
    {
     "name": "stdout",
     "output_type": "stream",
     "text": [
      "WARNING:tensorflow:From c:\\users\\etsukerman\\appdata\\local\\programs\\python\\python36\\lib\\site-packages\\tensorflow\\python\\compat\\v2_compat.py:96: disable_resource_variables (from tensorflow.python.ops.variable_scope) is deprecated and will be removed in a future version.\n",
      "Instructions for updating:\n",
      "non-resource variables are not supported in the long term\n"
     ]
    },
    {
     "data": {
      "application/javascript": [
       "\n",
       "            setTimeout(function() {\n",
       "                var nbb_cell_id = 3;\n",
       "                var nbb_formatted_code = \"import tensorflow.compat.v1 as tf\\n\\ntf.disable_v2_behavior()\\n\\nK = 2\\nR = ratings\\n\\nN = len(ratings)\\nM = len(ratings[0])\\nP = np.random.rand(N, K)\\nQ = np.random.rand(M, K)\\nratings = tf.placeholder(tf.float32, name=\\\"ratings\\\")\\nP_matrix = tf.Variable(P, dtype=tf.float32)\\nQ_matrix = tf.Variable(Q, dtype=tf.float32)\\nP_times_Q = tf.matmul(P_matrix, Q_matrix, transpose_b=True)\\nsquared_error = tf.square(P_times_Q - ratings)\\nloss = tf.reduce_sum(squared_error)\";\n",
       "                var nbb_cells = Jupyter.notebook.get_cells();\n",
       "                for (var i = 0; i < nbb_cells.length; ++i) {\n",
       "                    if (nbb_cells[i].input_prompt_number == nbb_cell_id) {\n",
       "                        nbb_cells[i].set_text(nbb_formatted_code);\n",
       "                        break;\n",
       "                    }\n",
       "                }\n",
       "            }, 500);\n",
       "            "
      ],
      "text/plain": [
       "<IPython.core.display.Javascript object>"
      ]
     },
     "metadata": {},
     "output_type": "display_data"
    }
   ],
   "source": [
    "import tensorflow.compat.v1 as tf\n",
    "\n",
    "tf.disable_v2_behavior()\n",
    "\n",
    "K = 2\n",
    "R = ratings\n",
    "\n",
    "N = len(ratings)\n",
    "M = len(ratings[0])\n",
    "P = np.random.rand(N, K)\n",
    "Q = np.random.rand(M, K)\n",
    "ratings = tf.placeholder(tf.float32, name=\"ratings\")\n",
    "P_matrix = tf.Variable(P, dtype=tf.float32)\n",
    "Q_matrix = tf.Variable(Q, dtype=tf.float32)\n",
    "P_times_Q = tf.matmul(P_matrix, Q_matrix, transpose_b=True)\n",
    "squared_error = tf.square(P_times_Q - ratings)\n",
    "loss = tf.reduce_sum(squared_error)"
   ]
  },
  {
   "cell_type": "code",
   "execution_count": 4,
   "metadata": {},
   "outputs": [
    {
     "data": {
      "application/javascript": [
       "\n",
       "            setTimeout(function() {\n",
       "                var nbb_cell_id = 4;\n",
       "                var nbb_formatted_code = \"optimizer = tf.train.GradientDescentOptimizer(0.01)\\ntrain = optimizer.minimize(loss)\";\n",
       "                var nbb_cells = Jupyter.notebook.get_cells();\n",
       "                for (var i = 0; i < nbb_cells.length; ++i) {\n",
       "                    if (nbb_cells[i].input_prompt_number == nbb_cell_id) {\n",
       "                        nbb_cells[i].set_text(nbb_formatted_code);\n",
       "                        break;\n",
       "                    }\n",
       "                }\n",
       "            }, 500);\n",
       "            "
      ],
      "text/plain": [
       "<IPython.core.display.Javascript object>"
      ]
     },
     "metadata": {},
     "output_type": "display_data"
    }
   ],
   "source": [
    "optimizer = tf.train.GradientDescentOptimizer(0.01)\n",
    "train = optimizer.minimize(loss)"
   ]
  },
  {
   "cell_type": "code",
   "execution_count": 5,
   "metadata": {},
   "outputs": [
    {
     "name": "stdout",
     "output_type": "stream",
     "text": [
      "[[2.721 2.93  1.932 2.721 3.375 3.185]\n",
      " [4.056 1.135 0.787 4.056 4.902 3.014]\n",
      " [0.93  2.376 1.55  0.93  1.208 1.826]\n",
      " [3.136 1.898 1.269 3.136 3.83  2.877]\n",
      " [0.846 4.844 3.146 0.846 1.206 3.099]\n",
      " [2.157 4.917 3.211 2.157 2.778 3.916]\n",
      " [1.826 1.825 1.205 1.826 2.258 2.061]\n",
      " [1.226 4.198 2.733 1.226 1.635 2.979]]\n",
      "\n",
      "[[1.422 0.955]\n",
      " [2.364 0.085]\n",
      " [0.382 0.895]\n",
      " [1.75  0.488]\n",
      " [0.146 1.924]\n",
      " [0.931 1.83 ]\n",
      " [0.965 0.582]\n",
      " [0.424 1.621]]\n",
      "\n",
      "[[1.705 0.39  0.275 1.705 2.057 1.22 ]\n",
      " [0.311 2.488 1.615 0.311 0.471 1.519]]\n",
      "\n"
     ]
    },
    {
     "data": {
      "application/javascript": [
       "\n",
       "            setTimeout(function() {\n",
       "                var nbb_cell_id = 5;\n",
       "                var nbb_formatted_code = \"sess = tf.Session()\\ninit = tf.global_variables_initializer()\\nsess.run(init)\\n\\nfor i in range(5000):\\n    sess.run(train, {ratings: R})\\n\\nfinal_P_times_Q = np.around(sess.run(P_times_Q), 3)\\nprint(final_P_times_Q)\\nprint()\\nfinal_P_matrix = np.around(sess.run(P_matrix), 3)\\nprint(final_P_matrix)\\nprint()\\nfinal_Q_matrix = np.transpose(np.around(sess.run(Q_matrix), 3))\\nprint(final_Q_matrix)\\nprint()\";\n",
       "                var nbb_cells = Jupyter.notebook.get_cells();\n",
       "                for (var i = 0; i < nbb_cells.length; ++i) {\n",
       "                    if (nbb_cells[i].input_prompt_number == nbb_cell_id) {\n",
       "                        nbb_cells[i].set_text(nbb_formatted_code);\n",
       "                        break;\n",
       "                    }\n",
       "                }\n",
       "            }, 500);\n",
       "            "
      ],
      "text/plain": [
       "<IPython.core.display.Javascript object>"
      ]
     },
     "metadata": {},
     "output_type": "display_data"
    }
   ],
   "source": [
    "sess = tf.Session()\n",
    "init = tf.global_variables_initializer()\n",
    "sess.run(init)\n",
    "\n",
    "for i in range(5000):\n",
    "    sess.run(train, {ratings: R})\n",
    "\n",
    "final_P_times_Q = np.around(sess.run(P_times_Q), 3)\n",
    "print(final_P_times_Q)\n",
    "print()\n",
    "final_P_matrix = np.around(sess.run(P_matrix), 3)\n",
    "print(final_P_matrix)\n",
    "print()\n",
    "final_Q_matrix = np.transpose(np.around(sess.run(Q_matrix), 3))\n",
    "print(final_Q_matrix)\n",
    "print()"
   ]
  },
  {
   "cell_type": "code",
   "execution_count": 7,
   "metadata": {},
   "outputs": [
    {
     "data": {
      "application/javascript": [
       "\n",
       "            setTimeout(function() {\n",
       "                var nbb_cell_id = 7;\n",
       "                var nbb_formatted_code = \"new_user_indices = [1, 2, 4, 5]\\nnew_user_ratings = [2, 2, 1, 2]\\nnew_user_P_row_initial = np.random.rand(1, K)\\nnew_user_P_row = tf.Variable(new_user_P_row_initial, dtype=tf.float32)\\nnew_user_P_row_times_Q = tf.matmul(new_user_P_row, final_Q_matrix)\\nres = tf.gather(new_user_P_row_times_Q, new_user_indices, axis=1)\\nsquared_error = tf.square(new_user_ratings - res)\\nloss = tf.reduce_sum(squared_error)\\noptimizer = tf.train.GradientDescentOptimizer(0.01)\\npredict = optimizer.minimize(loss)\";\n",
       "                var nbb_cells = Jupyter.notebook.get_cells();\n",
       "                for (var i = 0; i < nbb_cells.length; ++i) {\n",
       "                    if (nbb_cells[i].input_prompt_number == nbb_cell_id) {\n",
       "                        nbb_cells[i].set_text(nbb_formatted_code);\n",
       "                        break;\n",
       "                    }\n",
       "                }\n",
       "            }, 500);\n",
       "            "
      ],
      "text/plain": [
       "<IPython.core.display.Javascript object>"
      ]
     },
     "metadata": {},
     "output_type": "display_data"
    }
   ],
   "source": [
    "new_user_indices = [1, 2, 4, 5]\n",
    "new_user_ratings = [2, 2, 1, 2]\n",
    "new_user_P_row_initial = np.random.rand(1, K)\n",
    "new_user_P_row = tf.Variable(new_user_P_row_initial, dtype=tf.float32)\n",
    "new_user_P_row_times_Q = tf.matmul(new_user_P_row, final_Q_matrix)\n",
    "res = tf.gather(new_user_P_row_times_Q, new_user_indices, axis=1)\n",
    "squared_error = tf.square(new_user_ratings - res)\n",
    "loss = tf.reduce_sum(squared_error)\n",
    "optimizer = tf.train.GradientDescentOptimizer(0.01)\n",
    "predict = optimizer.minimize(loss)"
   ]
  },
  {
   "cell_type": "code",
   "execution_count": 8,
   "metadata": {},
   "outputs": [
    {
     "data": {
      "application/javascript": [
       "\n",
       "            setTimeout(function() {\n",
       "                var nbb_cell_id = 8;\n",
       "                var nbb_formatted_code = \"sess = tf.Session()\\ninit = tf.global_variables_initializer()\\nsess.run(init)\\n\\nfor i in range(50000):\\n    sess.run(predict)\";\n",
       "                var nbb_cells = Jupyter.notebook.get_cells();\n",
       "                for (var i = 0; i < nbb_cells.length; ++i) {\n",
       "                    if (nbb_cells[i].input_prompt_number == nbb_cell_id) {\n",
       "                        nbb_cells[i].set_text(nbb_formatted_code);\n",
       "                        break;\n",
       "                    }\n",
       "                }\n",
       "            }, 500);\n",
       "            "
      ],
      "text/plain": [
       "<IPython.core.display.Javascript object>"
      ]
     },
     "metadata": {},
     "output_type": "display_data"
    }
   ],
   "source": [
    "sess = tf.Session()\n",
    "init = tf.global_variables_initializer()\n",
    "sess.run(init)\n",
    "\n",
    "for i in range(50000):\n",
    "    sess.run(predict)"
   ]
  },
  {
   "cell_type": "code",
   "execution_count": 9,
   "metadata": {},
   "outputs": [
    {
     "name": "stdout",
     "output_type": "stream",
     "text": [
      "[[1. 2. 2. 1. 1. 2.]]\n"
     ]
    },
    {
     "data": {
      "application/javascript": [
       "\n",
       "            setTimeout(function() {\n",
       "                var nbb_cell_id = 9;\n",
       "                var nbb_formatted_code = \"final_new_user_P_row_times_Q = np.around(sess.run(new_user_P_row_times_Q), 3)\\nprint(np.round(final_new_user_P_row_times_Q))\";\n",
       "                var nbb_cells = Jupyter.notebook.get_cells();\n",
       "                for (var i = 0; i < nbb_cells.length; ++i) {\n",
       "                    if (nbb_cells[i].input_prompt_number == nbb_cell_id) {\n",
       "                        nbb_cells[i].set_text(nbb_formatted_code);\n",
       "                        break;\n",
       "                    }\n",
       "                }\n",
       "            }, 500);\n",
       "            "
      ],
      "text/plain": [
       "<IPython.core.display.Javascript object>"
      ]
     },
     "metadata": {},
     "output_type": "display_data"
    }
   ],
   "source": [
    "final_new_user_P_row_times_Q = np.around(sess.run(new_user_P_row_times_Q), 3)\n",
    "print(np.round(final_new_user_P_row_times_Q))"
   ]
  },
  {
   "cell_type": "code",
   "execution_count": null,
   "metadata": {},
   "outputs": [],
   "source": []
  }
 ],
 "metadata": {
  "kernelspec": {
   "display_name": "Python 3",
   "language": "python",
   "name": "python3"
  },
  "language_info": {
   "codemirror_mode": {
    "name": "ipython",
    "version": 3
   },
   "file_extension": ".py",
   "mimetype": "text/x-python",
   "name": "python",
   "nbconvert_exporter": "python",
   "pygments_lexer": "ipython3",
   "version": "3.6.7"
  }
 },
 "nbformat": 4,
 "nbformat_minor": 2
}
